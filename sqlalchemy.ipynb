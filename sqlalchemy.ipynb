{
 "cells": [
  {
   "cell_type": "code",
   "execution_count": 7,
   "metadata": {},
   "outputs": [
    {
     "name": "stdout",
     "output_type": "stream",
     "text": [
      "[('Taxi Driver', 'Martin Scorsese', 1975), ('Pulp Fiction', 'Quentine Tarantino', 1994), ('Bank to the Future', 'Steven Spielberg', 1985), ('Moonrise Kingdom', 'Wes Anderson', 2012)]\n"
     ]
    }
   ],
   "source": [
    "import sqlite3 as sql3\n",
    "connection = sql3.connect('movies.db')\n",
    "cursor = connection.cursor()\n",
    "cursor.execute(\"\"\"CREATE TABLE IF NOT EXISTS Movies\n",
    "(Title TEXT, Director TEXT, Year INT)\"\"\")\n",
    "cursor.execute(\"\"\"INSERT INTO Movies VALUES\n",
    "('Taxi Driver', 'Martin Scorsese', 1975)\"\"\")\n",
    "\n",
    "famousFilms = [\n",
    "    ('Pulp Fiction', 'Quentine Tarantino', 1994),\n",
    "    ('Bank to the Future', 'Steven Spielberg', 1985),\n",
    "    ('Moonrise Kingdom', 'Wes Anderson', 2012)]\n",
    "\n",
    "cursor.executemany('INSERT INTO Movies VALUES (?,?,?)', famousFilms)\n",
    "\n",
    "cursor.execute(\"SELECT * FROM Movies\")\n",
    "results = cursor.fetchall()\n",
    "print(results)"
   ]
  },
  {
   "cell_type": "code",
   "execution_count": 8,
   "metadata": {},
   "outputs": [],
   "source": [
    "connection.commit()\n",
    "connection.close()"
   ]
  },
  {
   "cell_type": "code",
   "execution_count": 10,
   "metadata": {},
   "outputs": [
    {
     "name": "stdout",
     "output_type": "stream",
     "text": [
      "('Taxi Driver', 'Martin Scorsese', 1975)\n",
      "[('Taxi Driver', 'Martin Scorsese', 1975), ('Pulp Fiction', 'Quentine Tarantino', 1994)]\n"
     ]
    }
   ],
   "source": [
    "import sqlalchemy as db\n",
    "\n",
    "engine = db.create_engine('sqlite:///movies.db')\n",
    "\n",
    "connection = engine.connect()\n",
    "\n",
    "metadata = db.MetaData()\n",
    "\n",
    "movies = db.Table('Movies', metadata, autoload=True, autoload_with=engine)\n",
    "\n",
    "query = db.select([movies])\n",
    "\n",
    "result_proxy = connection.execute(query)\n",
    "\n",
    "result_set = result_proxy.fetchall()\n",
    "\n",
    "print(result_set[0])\n",
    "print(result_set[:2])\n",
    "\n"
   ]
  },
  {
   "cell_type": "code",
   "execution_count": null,
   "metadata": {},
   "outputs": [],
   "source": []
  }
 ],
 "metadata": {
  "kernelspec": {
   "display_name": "Python 3",
   "language": "python",
   "name": "python3"
  },
  "language_info": {
   "codemirror_mode": {
    "name": "ipython",
    "version": 3
   },
   "file_extension": ".py",
   "mimetype": "text/x-python",
   "name": "python",
   "nbconvert_exporter": "python",
   "pygments_lexer": "ipython3",
   "version": "3.8.3"
  }
 },
 "nbformat": 4,
 "nbformat_minor": 4
}
