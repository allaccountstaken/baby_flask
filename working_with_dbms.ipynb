{
 "cells": [
  {
   "cell_type": "markdown",
   "metadata": {},
   "source": [
    "### SQLite 3 - in memory database"
   ]
  },
  {
   "cell_type": "code",
   "execution_count": 16,
   "metadata": {},
   "outputs": [],
   "source": [
    "import sqlite3 as sql3\n",
    "connection = sql3.connect('movies.db')\n",
    "cursor = connection.cursor()\n",
    "#cursor.execute(\"\"\"CREATE TABLE IF NOT EXISTS Movies\n",
    "#(Title TEXT, Director TEXT, Year INT)\"\"\")\n",
    "#cursor.execute(\"\"\"INSERT INTO Movies VALUES\n",
    "#('Taxi Driver', 'Martin Scorsese', 1975)\"\"\")\n",
    "\n",
    "# famousFilms = [\n",
    "#     ('Pulp Fiction', 'Quentine Tarantino', 1994),\n",
    "#     ('Bank to the Future', 'Steven Spielberg', 1985),\n",
    "#     ('Moonrise Kingdom', 'Wes Anderson', 2012)]\n",
    "\n",
    "# cursor.executemany('INSERT INTO Movies VALUES (?,?,?)', famousFilms)\n",
    "\n",
    "results = cursor.fetchall()"
   ]
  },
  {
   "cell_type": "code",
   "execution_count": 7,
   "metadata": {},
   "outputs": [
    {
     "name": "stdout",
     "output_type": "stream",
     "text": [
      "[('Pulp Fiction', 'Quentine Tarantino', 1994), ('Bank to the Future', 'Steven Spielberg', 1985), ('Moonrise Kingdom', 'Wes Anderson', 2012)]\n"
     ]
    }
   ],
   "source": [
    "cursor.execute(\"SELECT * FROM Movies\")\n",
    "results = cursor.fetchall()\n",
    "print(results)"
   ]
  },
  {
   "cell_type": "code",
   "execution_count": 14,
   "metadata": {},
   "outputs": [
    {
     "name": "stdout",
     "output_type": "stream",
     "text": [
      "[('Bank to the Future', 'Steven Spielberg', 1985)]\n"
     ]
    }
   ],
   "source": [
    "# To avoid SQL-enjection attack, use tuple\n",
    "release_year = (1985,)\n",
    "cursor.execute(\"SELECT * FROM Movies WHERE year=?\", release_year)\n",
    "\n",
    "results = cursor.fetchall()\n",
    "print(results)"
   ]
  },
  {
   "cell_type": "code",
   "execution_count": 17,
   "metadata": {},
   "outputs": [],
   "source": [
    "connection.commit()\n",
    "connection.close()"
   ]
  },
  {
   "cell_type": "markdown",
   "metadata": {},
   "source": [
    "### SQLAlchemy is popular Object-Related Mapping (ORM)  \n",
    "What is a more Pythonic way to work with DBMS"
   ]
  },
  {
   "cell_type": "code",
   "execution_count": null,
   "metadata": {},
   "outputs": [],
   "source": []
  }
 ],
 "metadata": {
  "kernelspec": {
   "display_name": "Python 3",
   "language": "python",
   "name": "python3"
  },
  "language_info": {
   "codemirror_mode": {
    "name": "ipython",
    "version": 3
   },
   "file_extension": ".py",
   "mimetype": "text/x-python",
   "name": "python",
   "nbconvert_exporter": "python",
   "pygments_lexer": "ipython3",
   "version": "3.8.3"
  }
 },
 "nbformat": 4,
 "nbformat_minor": 4
}
